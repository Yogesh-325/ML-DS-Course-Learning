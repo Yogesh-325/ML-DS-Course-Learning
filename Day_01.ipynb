{
  "nbformat": 4,
  "nbformat_minor": 0,
  "metadata": {
    "colab": {
      "provenance": [],
      "toc_visible": true,
      "authorship_tag": "ABX9TyOVMoEaXLE68Do8aBFUUICt",
      "include_colab_link": true
    },
    "kernelspec": {
      "name": "python3",
      "display_name": "Python 3"
    },
    "language_info": {
      "name": "python"
    }
  },
  "cells": [
    {
      "cell_type": "markdown",
      "metadata": {
        "id": "view-in-github",
        "colab_type": "text"
      },
      "source": [
        "<a href=\"https://colab.research.google.com/github/Yogesh-325/ML-DS-Course-Learning/blob/main/Day_01.ipynb\" target=\"_parent\"><img src=\"https://colab.research.google.com/assets/colab-badge.svg\" alt=\"Open In Colab\"/></a>"
      ]
    },
    {
      "cell_type": "code",
      "execution_count": null,
      "metadata": {
        "colab": {
          "base_uri": "https://localhost:8080/"
        },
        "id": "hbeiYWknYaQQ",
        "outputId": "0f4abc34-c46b-4130-f4f4-e74196711f69"
      },
      "outputs": [
        {
          "output_type": "stream",
          "name": "stdout",
          "text": [
            "hello world!!\n"
          ]
        }
      ],
      "source": [
        "print(\"hello world!!\")"
      ]
    },
    {
      "cell_type": "code",
      "source": [
        "name = input(\"enter your name : \")\n",
        "print (\"Hello, \", name, \"! Welcome!\")"
      ],
      "metadata": {
        "colab": {
          "base_uri": "https://localhost:8080/"
        },
        "id": "HQ8ECXtwZmd9",
        "outputId": "c8cbed5b-8535-4ebe-d42f-3c2222960341"
      },
      "execution_count": null,
      "outputs": [
        {
          "output_type": "stream",
          "name": "stdout",
          "text": [
            "enter your name : yogesh\n",
            "Hello,  yogesh ! Welcome!\n"
          ]
        }
      ]
    },
    {
      "cell_type": "code",
      "source": [
        "s = \"Bob\"\n",
        "print(s)\n",
        "\n",
        "s = \"Alice\"\n",
        "age = 25\n",
        "city = \"New York\"\n",
        "print(s, age, city)"
      ],
      "metadata": {
        "colab": {
          "base_uri": "https://localhost:8080/"
        },
        "id": "oTRmTy3ebTUc",
        "outputId": "0c057dce-6833-4c69-aebe-fbc2adc75533"
      },
      "execution_count": null,
      "outputs": [
        {
          "output_type": "stream",
          "name": "stdout",
          "text": [
            "Bob\n",
            "Alice 25 New York\n"
          ]
        }
      ]
    },
    {
      "cell_type": "code",
      "source": [
        "x, y = input(\"Enter two values: \").split()\n",
        "print(\"Number of boys: \", x)\n",
        "print(\"Number of girls: \", y)\n",
        "\n",
        "x, y, z = input(\"Enter three values: \").split()\n",
        "print(\"First number: \", x)\n",
        "print(\"Second number: \", y)\n",
        "print(\"Third number: \", z)"
      ],
      "metadata": {
        "id": "IeJ7yBglbmjy",
        "colab": {
          "base_uri": "https://localhost:8080/"
        },
        "outputId": "eed3540b-ae57-436e-adac-0ff6a3e7753b"
      },
      "execution_count": null,
      "outputs": [
        {
          "output_type": "stream",
          "name": "stdout",
          "text": [
            "Enter two values: hi hello\n",
            "Number of boys:  hi\n",
            "Number of girls:  hello\n",
            "Enter three values: 33 45 22\n",
            "First number:  33\n",
            "Second number:  45\n",
            "Third number:  22\n"
          ]
        }
      ]
    },
    {
      "cell_type": "code",
      "source": [
        "#change the type of input\n",
        "\n",
        "#taking input as a string\n",
        "color = input(\"What is the color of rose?: \")\n",
        "print(color)\n",
        "\n",
        "#taking input as int\n",
        "#typecasting to int\n",
        "n = int(input(\"How many roses do you want in bffe?: \"))\n",
        "print(n)\n",
        "\n",
        "#taking input as float\n",
        "#Typecasting to float\n",
        "price = float(input(\"Price of each rose?: \"))\n",
        "print(price)"
      ],
      "metadata": {
        "id": "93imWSttc4oO",
        "colab": {
          "base_uri": "https://localhost:8080/"
        },
        "outputId": "71f105fd-ac92-4dda-9e11-a19b9fd5a8e0"
      },
      "execution_count": null,
      "outputs": [
        {
          "output_type": "stream",
          "name": "stdout",
          "text": [
            "What is the color of rose?: red\n",
            "red\n",
            "How many roses do you want in bffe?: 32\n",
            "32\n",
            "Price of each rose?: 21.5\n",
            "21.5\n"
          ]
        }
      ]
    },
    {
      "cell_type": "code",
      "source": [
        "#find Datatypes of input in python\n",
        "a = \"Hello World\"\n",
        "b = 10\n",
        "c = 11.33\n",
        "d = (\"geeks\", \"for\", \"geeks\")\n",
        "e = [\"Geeks\", \"for\", \"Geeks\"]\n",
        "f = {\"Geeks\": 1, \"for\": 2, \"Geeks\": 3}\n",
        "\n",
        "print(type(a))\n",
        "print(type(b))\n",
        "print(type(c))\n",
        "print(type(d))\n",
        "print(type(e))\n",
        "print(type(f))"
      ],
      "metadata": {
        "colab": {
          "base_uri": "https://localhost:8080/"
        },
        "id": "AWb0heNMeiSO",
        "outputId": "e8da9c60-4937-4d6a-b713-03b3a8e540f3"
      },
      "execution_count": null,
      "outputs": [
        {
          "output_type": "stream",
          "name": "stdout",
          "text": [
            "<class 'str'>\n",
            "<class 'int'>\n",
            "<class 'float'>\n",
            "<class 'tuple'>\n",
            "<class 'list'>\n",
            "<class 'dict'>\n"
          ]
        }
      ]
    },
    {
      "cell_type": "markdown",
      "source": [
        "## Python Variables"
      ],
      "metadata": {
        "id": "_9GLmjfIj0p1"
      }
    },
    {
      "cell_type": "code",
      "source": [
        "x = 5\n",
        "name = \"Samantha\"\n",
        "\n",
        "print(x)\n",
        "print(name)\n",
        "\n",
        "age = 21\n",
        "_color = \"lilac\"\n",
        "total_score = 90\n",
        "\n",
        "print(age)\n",
        "print(_color)\n",
        "print(total_score)\n",
        "\n",
        "#invalid :starta with digits: 1name = \"Error\" , reserved keywords: class = 10, contain a hyphen : user-name = \"Yogi\"\n",
        "\n",
        "\n",
        "x = \"Now x is a string\"\n",
        "print(type(x))\n",
        "\n",
        "# multiple assignments\n",
        "\n",
        "a = b = c = 100\n",
        "print(a,b,c)\n",
        "\n",
        "# assigning different Values\n",
        "i, j, k = 1, 2.4, \"yogi bhai\"\n",
        "print(i,j,k)"
      ],
      "metadata": {
        "colab": {
          "base_uri": "https://localhost:8080/"
        },
        "id": "BxR72mxnkQQN",
        "outputId": "a2048fff-0c06-4de3-8c21-7a9f808684a2"
      },
      "execution_count": null,
      "outputs": [
        {
          "output_type": "stream",
          "name": "stdout",
          "text": [
            "5\n",
            "Samantha\n",
            "21\n",
            "lilac\n",
            "90\n",
            "<class 'str'>\n",
            "100 100 100\n",
            "1 2.4 yogi bhai\n"
          ]
        }
      ]
    },
    {
      "cell_type": "code",
      "source": [
        "# typecasting a variable\n",
        "\n",
        "s = \"10\"\n",
        "n = int(s)\n",
        "\n",
        "cnt = 5\n",
        "f = float(cnt)\n",
        "\n",
        "age = 25\n",
        "s2 = str(age)\n",
        "\n",
        "print(s, n, cnt, f, age, s2)\n",
        "\n",
        "print(type(s))\n",
        "print(type(n))\n",
        "print(type(cnt))\n",
        "print(type(f))\n",
        "print(type(age))\n",
        "print(type(s2))"
      ],
      "metadata": {
        "colab": {
          "base_uri": "https://localhost:8080/"
        },
        "id": "OieRG9jnl_aa",
        "outputId": "8afa97c6-887b-4b81-a46b-0bc4ccdbfecf"
      },
      "execution_count": null,
      "outputs": [
        {
          "output_type": "stream",
          "name": "stdout",
          "text": [
            "10 10 5 5.0 25 25\n",
            "<class 'str'>\n",
            "<class 'int'>\n",
            "<class 'int'>\n",
            "<class 'float'>\n",
            "<class 'int'>\n",
            "<class 'str'>\n"
          ]
        }
      ]
    },
    {
      "cell_type": "code",
      "source": [
        "x = 10\n",
        "print(x)\n",
        "\n",
        "del x\n",
        "# print(x) #this will give us name error because 'x' is not defined"
      ],
      "metadata": {
        "colab": {
          "base_uri": "https://localhost:8080/"
        },
        "id": "iQhPYRwim0uF",
        "outputId": "bb1f4f3d-01c6-4335-bbd5-60faa04daff2"
      },
      "execution_count": null,
      "outputs": [
        {
          "output_type": "stream",
          "name": "stdout",
          "text": [
            "10\n"
          ]
        }
      ]
    },
    {
      "cell_type": "markdown",
      "source": [
        "Swapping two Variable"
      ],
      "metadata": {
        "id": "Pn2WqkQAnUPe"
      }
    },
    {
      "cell_type": "code",
      "source": [
        "a, b = 5, 10\n",
        "a, b = b, a\n",
        "print(a, b)"
      ],
      "metadata": {
        "colab": {
          "base_uri": "https://localhost:8080/"
        },
        "id": "y3ztM7iUnZGt",
        "outputId": "c7bbf148-0188-4c4e-eb5e-85754cae1860"
      },
      "execution_count": null,
      "outputs": [
        {
          "output_type": "stream",
          "name": "stdout",
          "text": [
            "10 5\n"
          ]
        }
      ]
    },
    {
      "cell_type": "markdown",
      "source": [
        "counting characters in a string"
      ],
      "metadata": {
        "id": "tZRTxssznk2u"
      }
    },
    {
      "cell_type": "code",
      "source": [
        "word = \"Python\"\n",
        "length = len(word)\n",
        "\n",
        "print(\"Length of the word:\", length)"
      ],
      "metadata": {
        "colab": {
          "base_uri": "https://localhost:8080/"
        },
        "id": "_dJ87o_9nSSg",
        "outputId": "11abb2c8-8781-47d0-955d-161e3810b4ab"
      },
      "execution_count": null,
      "outputs": [
        {
          "output_type": "stream",
          "name": "stdout",
          "text": [
            "Length of the word: 6\n"
          ]
        }
      ]
    },
    {
      "cell_type": "markdown",
      "source": [
        "Python Keywords"
      ],
      "metadata": {
        "id": "FaPYkUVYq57B"
      }
    },
    {
      "cell_type": "code",
      "source": [
        "import keyword\n",
        "\n",
        "print(\"The list of keywords is : \")\n",
        "print(keyword.kwlist)"
      ],
      "metadata": {
        "colab": {
          "base_uri": "https://localhost:8080/"
        },
        "id": "r2ZbWB0mrEcU",
        "outputId": "0e918049-2143-44ff-8561-62a508f7d717"
      },
      "execution_count": null,
      "outputs": [
        {
          "output_type": "stream",
          "name": "stdout",
          "text": [
            "The list of keywords is : \n",
            "['False', 'None', 'True', 'and', 'as', 'assert', 'async', 'await', 'break', 'class', 'continue', 'def', 'del', 'elif', 'else', 'except', 'finally', 'for', 'from', 'global', 'if', 'import', 'in', 'is', 'lambda', 'nonlocal', 'not', 'or', 'pass', 'raise', 'return', 'try', 'while', 'with', 'yield']\n"
          ]
        }
      ]
    },
    {
      "cell_type": "code",
      "source": [
        "for = 10\n",
        "# print(for) # this also gives SyntaxError: invalid syntax"
      ],
      "metadata": {
        "colab": {
          "base_uri": "https://localhost:8080/",
          "height": 106
        },
        "id": "SxsUVZjEsCHH",
        "outputId": "aa6b7caa-f26c-4b68-8082-a271b065d957"
      },
      "execution_count": null,
      "outputs": [
        {
          "output_type": "error",
          "ename": "SyntaxError",
          "evalue": "invalid syntax (ipython-input-3359357732.py, line 1)",
          "traceback": [
            "\u001b[0;36m  File \u001b[0;32m\"/tmp/ipython-input-3359357732.py\"\u001b[0;36m, line \u001b[0;32m1\u001b[0m\n\u001b[0;31m    for = 10\u001b[0m\n\u001b[0m        ^\u001b[0m\n\u001b[0;31mSyntaxError\u001b[0m\u001b[0;31m:\u001b[0m invalid syntax\n"
          ]
        }
      ]
    }
  ]
}