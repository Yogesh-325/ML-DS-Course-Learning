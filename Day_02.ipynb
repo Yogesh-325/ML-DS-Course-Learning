{
  "nbformat": 4,
  "nbformat_minor": 0,
  "metadata": {
    "colab": {
      "provenance": [],
      "authorship_tag": "ABX9TyMiQ9zmO0GV5XlGXB/gA0rq",
      "include_colab_link": true
    },
    "kernelspec": {
      "name": "python3",
      "display_name": "Python 3"
    },
    "language_info": {
      "name": "python"
    }
  },
  "cells": [
    {
      "cell_type": "markdown",
      "metadata": {
        "id": "view-in-github",
        "colab_type": "text"
      },
      "source": [
        "<a href=\"https://colab.research.google.com/github/Yogesh-325/ML-DS-Course-Learning/blob/main/Day_02.ipynb\" target=\"_parent\"><img src=\"https://colab.research.google.com/assets/colab-badge.svg\" alt=\"Open In Colab\"/></a>"
      ]
    },
    {
      "cell_type": "markdown",
      "source": [
        "#Datatypes and Operators"
      ],
      "metadata": {
        "id": "Xa7nEIoRC8Oc"
      }
    },
    {
      "cell_type": "markdown",
      "source": [
        "**Arithematic Operators**"
      ],
      "metadata": {
        "id": "lzrm4nfqDIyu"
      }
    },
    {
      "cell_type": "code",
      "execution_count": null,
      "metadata": {
        "colab": {
          "base_uri": "https://localhost:8080/"
        },
        "id": "oDSyR8hNCTQK",
        "outputId": "7bbd8679-8997-4bc4-a25f-edbd1dfbd143"
      },
      "outputs": [
        {
          "output_type": "stream",
          "name": "stdout",
          "text": [
            "Addition: 19\n",
            "Substraction: 11\n",
            "Multiplication: 60\n",
            "Division: 3.75\n",
            "Floor Division: 3\n",
            "Modulus: 3\n",
            "Exponentiation: 50625\n"
          ]
        }
      ],
      "source": [
        "a = 15\n",
        "b = 4\n",
        "\n",
        "print(\"Addition:\",a+b)\n",
        "print(\"Substraction:\",a-b)\n",
        "print(\"Multiplication:\",a*b)\n",
        "print(\"Division:\",a/b)\n",
        "print(\"Floor Division:\",a//b)\n",
        "print(\"Modulus:\",a%b)\n",
        "print(\"Exponentiation:\",a**b)"
      ]
    },
    {
      "cell_type": "markdown",
      "source": [
        "**Comparision Operators**"
      ],
      "metadata": {
        "id": "IVmb0RP5Evgw"
      }
    },
    {
      "cell_type": "code",
      "source": [
        "a = 13\n",
        "b = 14\n",
        "\n",
        "print(a>b)\n",
        "print(a<b)\n",
        "print(a>=b)\n",
        "print(a<=b)\n",
        "print(a==b)\n",
        "print(a!=b)"
      ],
      "metadata": {
        "colab": {
          "base_uri": "https://localhost:8080/"
        },
        "id": "RihbjFGOEtkh",
        "outputId": "455b7a0f-597a-4b93-9797-45b91c8ff663"
      },
      "execution_count": null,
      "outputs": [
        {
          "output_type": "stream",
          "name": "stdout",
          "text": [
            "False\n",
            "True\n",
            "False\n",
            "True\n",
            "False\n",
            "True\n"
          ]
        }
      ]
    },
    {
      "cell_type": "markdown",
      "source": [
        "**Logical Operators**"
      ],
      "metadata": {
        "id": "_Di-ADRJFFS8"
      }
    },
    {
      "cell_type": "code",
      "source": [
        "a = True\n",
        "b = False\n",
        "\n",
        "print(a and b)\n",
        "print(a or b)\n",
        "print(not a)\n",
        "print(not b)"
      ],
      "metadata": {
        "colab": {
          "base_uri": "https://localhost:8080/"
        },
        "id": "XIkcg16KFMZW",
        "outputId": "a3fe59d1-ccf4-4e0c-9d48-912e7adf7b74"
      },
      "execution_count": null,
      "outputs": [
        {
          "output_type": "stream",
          "name": "stdout",
          "text": [
            "False\n",
            "True\n",
            "False\n",
            "True\n"
          ]
        }
      ]
    },
    {
      "cell_type": "markdown",
      "source": [
        "**Bitwise Operators**"
      ],
      "metadata": {
        "id": "ksmvLAhiFdUM"
      }
    },
    {
      "cell_type": "code",
      "source": [
        "a = 10\n",
        "b = 4\n",
        "\n",
        "print(a & b)\n",
        "print(a | b)\n",
        "print(a ^ b)\n",
        "print(~a)\n",
        "print(a ^ b)"
      ],
      "metadata": {
        "colab": {
          "base_uri": "https://localhost:8080/"
        },
        "id": "CEaYzcyGFiPj",
        "outputId": "8d368a68-2f54-4829-bde0-109cc35b8aa3"
      },
      "execution_count": null,
      "outputs": [
        {
          "output_type": "stream",
          "name": "stdout",
          "text": [
            "0\n",
            "14\n",
            "14\n",
            "-11\n",
            "14\n"
          ]
        }
      ]
    },
    {
      "cell_type": "markdown",
      "source": [
        "**Assignment Operators**"
      ],
      "metadata": {
        "id": "GY0zWcwbF5EW"
      }
    },
    {
      "cell_type": "code",
      "source": [
        "a = 10\n",
        "b = a\n",
        "print(b)\n",
        "b+=a\n",
        "print(b)\n",
        "b-=a\n",
        "print(b)\n",
        "b*=a\n",
        "print(b)\n",
        "b<<=a\n",
        "print(b)"
      ],
      "metadata": {
        "colab": {
          "base_uri": "https://localhost:8080/"
        },
        "id": "pBv48Z3jGFN2",
        "outputId": "75a85030-e9b5-415b-a501-31813f23f044"
      },
      "execution_count": null,
      "outputs": [
        {
          "output_type": "stream",
          "name": "stdout",
          "text": [
            "10\n",
            "20\n",
            "10\n",
            "100\n",
            "102400\n"
          ]
        }
      ]
    },
    {
      "cell_type": "markdown",
      "source": [
        "**Identity Operator**"
      ],
      "metadata": {
        "id": "MIKYvKHdIlo3"
      }
    },
    {
      "cell_type": "code",
      "source": [
        "a = 10\n",
        "b = 20\n",
        "c = a\n",
        "\n",
        "print(a is not b)\n",
        "print(a is c)"
      ],
      "metadata": {
        "colab": {
          "base_uri": "https://localhost:8080/"
        },
        "id": "W8Fh_tqVG4g0",
        "outputId": "00007e22-efde-472f-8e2a-d9f088f6f71e"
      },
      "execution_count": null,
      "outputs": [
        {
          "output_type": "stream",
          "name": "stdout",
          "text": [
            "True\n",
            "True\n"
          ]
        }
      ]
    },
    {
      "cell_type": "markdown",
      "source": [
        "**Membership Operator**"
      ],
      "metadata": {
        "id": "sfmQV-iHIvOp"
      }
    },
    {
      "cell_type": "code",
      "source": [
        "x = 24\n",
        "y = 20\n",
        "list = [10, 20, 30, 40, 50]\n",
        "\n",
        "if (x not in list):\n",
        "  print(\"x is NOT present in given list\")\n",
        "else:\n",
        "  print(\"x is present in given list\")\n",
        "\n",
        "\n",
        "if(y in list):\n",
        "  print(\"y is present in given list\")\n",
        "else:\n",
        "  print(\"y is NOT present in given list\")"
      ],
      "metadata": {
        "id": "dk4ENhx3IuT2",
        "colab": {
          "base_uri": "https://localhost:8080/"
        },
        "outputId": "82eeb10d-59fb-44c4-cbd9-f7c5e63c6946"
      },
      "execution_count": 1,
      "outputs": [
        {
          "output_type": "stream",
          "name": "stdout",
          "text": [
            "x is NOT present in given list\n",
            "y is present in given list\n"
          ]
        }
      ]
    },
    {
      "cell_type": "markdown",
      "source": [
        "**Ternary Operator**"
      ],
      "metadata": {
        "id": "GYqc4HYe8iGV"
      }
    },
    {
      "cell_type": "code",
      "source": [
        "a, b = 10, 20\n",
        "\n",
        "min = a if a < b else b\n",
        "print(min)"
      ],
      "metadata": {
        "id": "Mnb4sqdAK-G-",
        "colab": {
          "base_uri": "https://localhost:8080/"
        },
        "outputId": "3dff334f-e61a-4d7a-c3e3-99abe345f285"
      },
      "execution_count": 2,
      "outputs": [
        {
          "output_type": "stream",
          "name": "stdout",
          "text": [
            "10\n"
          ]
        }
      ]
    },
    {
      "cell_type": "markdown",
      "source": [
        "**Precedence and Associativity Of Operators**"
      ],
      "metadata": {
        "id": "PWLpHMVQ8vnt"
      }
    },
    {
      "cell_type": "code",
      "source": [
        "expr = 10 + 20 + 30\n",
        "print(expr)\n",
        "\n",
        "name = \"Alex\"\n",
        "age = 0\n",
        "\n",
        "if name == \"Alex\" or name == \"John\" and age >= 2:\n",
        "  print(\"Hello! Welcome.\")\n",
        "else:\n",
        "  print(\"Good Bye!!\")"
      ],
      "metadata": {
        "colab": {
          "base_uri": "https://localhost:8080/"
        },
        "id": "lbh2nvq888Ar",
        "outputId": "e51f2d89-4265-433b-9cb5-a83c9bfd47b0"
      },
      "execution_count": 3,
      "outputs": [
        {
          "output_type": "stream",
          "name": "stdout",
          "text": [
            "60\n",
            "Hello! Welcome.\n"
          ]
        }
      ]
    },
    {
      "cell_type": "markdown",
      "source": [
        "**Operator Associativity**"
      ],
      "metadata": {
        "id": "DZtyBNiN9uR3"
      }
    },
    {
      "cell_type": "code",
      "source": [
        "print(100/10*10)\n",
        "print(5 - 2 + 3)\n",
        "print(5 - (2 + 3))\n",
        "print(2 ** 3 ** 2)\n",
        "print(2**9)"
      ],
      "metadata": {
        "colab": {
          "base_uri": "https://localhost:8080/"
        },
        "id": "qYlrbkon90Ra",
        "outputId": "7e2a3f47-f797-42d5-d8d4-a729380d2e1a"
      },
      "execution_count": 7,
      "outputs": [
        {
          "output_type": "stream",
          "name": "stdout",
          "text": [
            "100.0\n",
            "6\n",
            "0\n",
            "512\n",
            "512\n"
          ]
        }
      ]
    },
    {
      "cell_type": "markdown",
      "source": [
        "#Python Datatypes"
      ],
      "metadata": {
        "id": "STHct4-U-0pm"
      }
    },
    {
      "cell_type": "markdown",
      "source": [
        "**1. Numerical Data Types**"
      ],
      "metadata": {
        "id": "2o6RQGkg_FB-"
      }
    },
    {
      "cell_type": "code",
      "source": [
        "a = 5\n",
        "b = 5.0\n",
        "c = 2 + 4j\n",
        "\n",
        "print(type(a))\n",
        "print(type(b))\n",
        "print(type(c))"
      ],
      "metadata": {
        "colab": {
          "base_uri": "https://localhost:8080/"
        },
        "id": "DJHuPhE5_B1d",
        "outputId": "68523c1e-bfd7-4a9d-8471-333470273bda"
      },
      "execution_count": 8,
      "outputs": [
        {
          "output_type": "stream",
          "name": "stdout",
          "text": [
            "<class 'int'>\n",
            "<class 'float'>\n",
            "<class 'complex'>\n"
          ]
        }
      ]
    },
    {
      "cell_type": "markdown",
      "source": [
        "**2. Sequence Daty Types**"
      ],
      "metadata": {
        "id": "2i3Ziucv_npK"
      }
    },
    {
      "cell_type": "code",
      "source": [
        "s = 'Welcome to the Jungle'\n",
        "\n",
        "print(s)\n",
        "print(type(s))\n",
        "\n",
        "print(s[1])\n",
        "print(s[2])\n",
        "print(s[-1])"
      ],
      "metadata": {
        "colab": {
          "base_uri": "https://localhost:8080/"
        },
        "id": "_8zophR__uzP",
        "outputId": "780df82b-647e-490c-df14-011471b9cd60"
      },
      "execution_count": 9,
      "outputs": [
        {
          "output_type": "stream",
          "name": "stdout",
          "text": [
            "Welcome to the Jungle\n",
            "<class 'str'>\n",
            "e\n",
            "l\n",
            "e\n"
          ]
        }
      ]
    },
    {
      "cell_type": "markdown",
      "source": [
        "**3. List Data Types**"
      ],
      "metadata": {
        "id": "5KqUBNAaAAwA"
      }
    },
    {
      "cell_type": "code",
      "source": [
        "a = []\n",
        "\n",
        "a = [1, 2, 3]\n",
        "print(a)\n",
        "\n",
        "b = [\"Geeks\", \"For\", \"Geeks\", 4, 5]\n",
        "print(b)\n",
        "\n",
        "#accesing element form the list\n",
        "\n",
        "print(a[0])\n",
        "print(b[-3])"
      ],
      "metadata": {
        "colab": {
          "base_uri": "https://localhost:8080/"
        },
        "id": "TM73wY6MAIuB",
        "outputId": "a495ce53-a2f1-4b9f-e198-affb6a4532df"
      },
      "execution_count": 13,
      "outputs": [
        {
          "output_type": "stream",
          "name": "stdout",
          "text": [
            "[1, 2, 3]\n",
            "['Geeks', 'For', 'Geeks', 4, 5]\n",
            "1\n",
            "Geeks\n"
          ]
        }
      ]
    },
    {
      "cell_type": "markdown",
      "source": [
        "**Tuple Data Type**"
      ],
      "metadata": {
        "id": "Cx8hk3tBB2Jy"
      }
    },
    {
      "cell_type": "code",
      "source": [
        "tup1 = ()\n",
        "\n",
        "tup1 = ('Geeks', 'For', 'Geeks')\n",
        "print(\"\\nTuple with the use of String: \",tup2)\n",
        "\n",
        "#Accessing Tuple Item\n",
        "print(tup1[0])\n",
        "print(tup1[-2])\n",
        "print(tup1[-3])"
      ],
      "metadata": {
        "colab": {
          "base_uri": "https://localhost:8080/"
        },
        "id": "ZOdusmfkCEy_",
        "outputId": "f290e3b7-7227-4b80-c0ce-2c904190ff26"
      },
      "execution_count": 19,
      "outputs": [
        {
          "output_type": "stream",
          "name": "stdout",
          "text": [
            "\n",
            "Tuple with the use of String:  ('Geeks', 'For', 'Geeks')\n",
            "Geeks\n",
            "For\n",
            "Geeks\n"
          ]
        }
      ]
    },
    {
      "cell_type": "markdown",
      "source": [
        "**Boolean Data Type**"
      ],
      "metadata": {
        "id": "Bt-4hdfHDf7Y"
      }
    },
    {
      "cell_type": "code",
      "source": [
        "print(type(True))\n",
        "print(type(False))\n",
        "# print(type(true)) #throw error\n",
        "print(type(\"true\"))"
      ],
      "metadata": {
        "colab": {
          "base_uri": "https://localhost:8080/"
        },
        "id": "9wGDpYaMCZna",
        "outputId": "23e7cc7e-ee94-47d9-ebb3-278c4ae06a3f"
      },
      "execution_count": 21,
      "outputs": [
        {
          "output_type": "stream",
          "name": "stdout",
          "text": [
            "<class 'bool'>\n",
            "<class 'bool'>\n",
            "<class 'str'>\n"
          ]
        }
      ]
    },
    {
      "cell_type": "markdown",
      "source": [
        "**Truthy and Falsy Values**"
      ],
      "metadata": {
        "id": "dG4eA0VMEL70"
      }
    },
    {
      "cell_type": "code",
      "source": [
        "if 1:\n",
        "  print(\"1 is truthy\")\n",
        "\n",
        "if not 0:\n",
        "  print(\"0 is falsy\")"
      ],
      "metadata": {
        "colab": {
          "base_uri": "https://localhost:8080/"
        },
        "id": "esi8ArPAERy4",
        "outputId": "7275ba25-765a-427a-cdf4-94687dfc6675"
      },
      "execution_count": 22,
      "outputs": [
        {
          "output_type": "stream",
          "name": "stdout",
          "text": [
            "1 is truthy\n",
            "0 is falsy\n"
          ]
        }
      ]
    },
    {
      "cell_type": "markdown",
      "source": [
        "**4. Set Data Types**"
      ],
      "metadata": {
        "id": "6wrJen_fGaHH"
      }
    },
    {
      "cell_type": "code",
      "source": [
        "s1 = set()\n",
        "\n",
        "s1 = set(\"GeeksForGeeks\")\n",
        "print(\"Set with the use of String: \", s1)\n",
        "\n",
        "s2 = set([\"Geeks\",\"For\",\"Geeks\"])\n",
        "print(\"Set with the use of List: \", s2)\n",
        "\n",
        "# Access Set Items\n",
        "\n",
        "for i in s1:\n",
        "  print(i, end=\" \") #prints elements one by one\n",
        "\n",
        "#check if item exist in set\n",
        "print(\"G\" in s1)\n",
        "print(\"Geeks\" in s1)"
      ],
      "metadata": {
        "colab": {
          "base_uri": "https://localhost:8080/"
        },
        "id": "XYYyiyqIEmKA",
        "outputId": "e9c3e498-c90e-4229-dd3f-ff0f89de3962"
      },
      "execution_count": 32,
      "outputs": [
        {
          "output_type": "stream",
          "name": "stdout",
          "text": [
            "Set with the use of String:  {'F', 'G', 'r', 'e', 's', 'k', 'o'}\n",
            "Set with the use of List:  {'For', 'Geeks'}\n",
            "F G r e s k o True\n",
            "False\n"
          ]
        }
      ]
    },
    {
      "cell_type": "markdown",
      "source": [
        "**5. Dictionary Data Types**"
      ],
      "metadata": {
        "id": "Delnp-AjIsgc"
      }
    },
    {
      "cell_type": "code",
      "source": [
        "d = {}\n",
        "\n",
        "d = {1:'Geeks', 2:'For', 3:'Geeks'}\n",
        "print(d)\n",
        "\n",
        "#creating dictionary Using dict() constructor\n",
        "d1 = dict({1: 'Geeks', 2: 'For', 3:'Geeks'})\n",
        "print(d1)"
      ],
      "metadata": {
        "colab": {
          "base_uri": "https://localhost:8080/"
        },
        "id": "qnf5KSG7Iy3C",
        "outputId": "6e1018fc-185d-4c6e-88ac-c5cff7f9758b"
      },
      "execution_count": 33,
      "outputs": [
        {
          "output_type": "stream",
          "name": "stdout",
          "text": [
            "{1: 'Geeks', 2: 'For', 3: 'Geeks'}\n",
            "{1: 'Geeks', 2: 'For', 3: 'Geeks'}\n"
          ]
        }
      ]
    },
    {
      "cell_type": "code",
      "source": [
        "# Accessing Key-value in Dictionary\n",
        "\n",
        "d = {1: 'Geek', 2: 'For', 3: 'Geeks'}\n",
        "\n",
        "print(d[1])\n",
        "\n",
        "print(d.get(2))"
      ],
      "metadata": {
        "colab": {
          "base_uri": "https://localhost:8080/"
        },
        "id": "hUKmHehrJOMg",
        "outputId": "bb7a8afe-bb2a-4c82-b85f-9f49b001bc6b"
      },
      "execution_count": 35,
      "outputs": [
        {
          "output_type": "stream",
          "name": "stdout",
          "text": [
            "Geek\n",
            "For\n"
          ]
        }
      ]
    },
    {
      "cell_type": "markdown",
      "source": [
        "#Conditional Statements"
      ],
      "metadata": {
        "id": "_e2N7ffiPyMj"
      }
    },
    {
      "cell_type": "code",
      "source": [
        "a = 20\n",
        "\n",
        "if a >= 18:\n",
        "  print(\"You are eligible to vote\")\n",
        "else:\n",
        "  print(\"You are not eligible to vote\")\n",
        "\n",
        "\n",
        "# Short Hand if\n",
        "age = 19\n",
        "if age > 18: print(\"You are eligible to vote\")"
      ],
      "metadata": {
        "colab": {
          "base_uri": "https://localhost:8080/"
        },
        "id": "y2APy18IQFux",
        "outputId": "ec9e550e-3f78-46ef-f759-88a3d2dd850f"
      },
      "execution_count": 37,
      "outputs": [
        {
          "output_type": "stream",
          "name": "stdout",
          "text": [
            "You are eligible to vote\n",
            "You are eligible to vote\n"
          ]
        }
      ]
    },
    {
      "cell_type": "code",
      "source": [
        "# Short Hand if-else\n",
        "\n",
        "marks = 45\n",
        "res = \"Pass\" if marks >= 40 else \"Fail\"\n",
        "print(f\"Result: {res}\")"
      ],
      "metadata": {
        "colab": {
          "base_uri": "https://localhost:8080/"
        },
        "id": "ExWe9UzRQmt8",
        "outputId": "b9d1a9e3-ded7-47cd-9854-15272f0d2a56"
      },
      "execution_count": 38,
      "outputs": [
        {
          "output_type": "stream",
          "name": "stdout",
          "text": [
            "Result: Pass\n"
          ]
        }
      ]
    },
    {
      "cell_type": "markdown",
      "source": [
        "**elif Statement**"
      ],
      "metadata": {
        "id": "1vpYSmQBRA9o"
      }
    },
    {
      "cell_type": "code",
      "source": [
        "age = 25\n",
        "\n",
        "if age <= 12:\n",
        "    print(\"Child.\")\n",
        "elif age <= 19:\n",
        "    print(\"Teenager.\")\n",
        "elif age <= 35:\n",
        "    print(\"Young adult.\")\n",
        "else:\n",
        "    print(\"Adult.\")"
      ],
      "metadata": {
        "colab": {
          "base_uri": "https://localhost:8080/"
        },
        "id": "kIih4-IGREza",
        "outputId": "3e819479-402f-4f3b-e14b-f4852de10701"
      },
      "execution_count": 39,
      "outputs": [
        {
          "output_type": "stream",
          "name": "stdout",
          "text": [
            "Young adult.\n"
          ]
        }
      ]
    },
    {
      "cell_type": "markdown",
      "source": [
        "**Nested if..else Conditional Statement**"
      ],
      "metadata": {
        "id": "GPE-2_QaRJuC"
      }
    },
    {
      "cell_type": "code",
      "source": [
        "age = 70\n",
        "is_member = True\n",
        "\n",
        "if age >= 60:\n",
        "    if is_member:\n",
        "        print(\"30% senior discount!\")\n",
        "    else:\n",
        "        print(\"20% senior discount.\")\n",
        "else:\n",
        "    print(\"Not eligible for a senior discount.\")"
      ],
      "metadata": {
        "colab": {
          "base_uri": "https://localhost:8080/"
        },
        "id": "jXNhPsEuRP4M",
        "outputId": "0d05cfec-3b85-4f33-a878-b5f84c4c990a"
      },
      "execution_count": 40,
      "outputs": [
        {
          "output_type": "stream",
          "name": "stdout",
          "text": [
            "30% senior discount!\n"
          ]
        }
      ]
    },
    {
      "cell_type": "markdown",
      "source": [
        "**Ternary Conditional Statement**"
      ],
      "metadata": {
        "id": "AAe5guIsRcXi"
      }
    },
    {
      "cell_type": "code",
      "source": [
        "# Assign a value based on a condition\n",
        "age = 20\n",
        "s = \"Adult\" if age >= 18 else \"Minor\"\n",
        "print(s)"
      ],
      "metadata": {
        "colab": {
          "base_uri": "https://localhost:8080/"
        },
        "id": "WqZhUPUkRfoz",
        "outputId": "a3989331-47ba-4024-b4bd-5e0aa20af35f"
      },
      "execution_count": 41,
      "outputs": [
        {
          "output_type": "stream",
          "name": "stdout",
          "text": [
            "Adult\n"
          ]
        }
      ]
    },
    {
      "cell_type": "markdown",
      "source": [
        "**Match-Case Statement**"
      ],
      "metadata": {
        "id": "QABWHX0PRk4o"
      }
    },
    {
      "cell_type": "code",
      "source": [
        "number = 2\n",
        "\n",
        "match number:\n",
        "    case 1:\n",
        "        print(\"One\")\n",
        "    case 2 | 3:\n",
        "        print(\"Two or Three\")\n",
        "    case _:\n",
        "        print(\"Other number\")"
      ],
      "metadata": {
        "colab": {
          "base_uri": "https://localhost:8080/"
        },
        "id": "mUY3op7CRnqB",
        "outputId": "e6ae621a-1b93-4148-9611-23b3b1481e80"
      },
      "execution_count": 42,
      "outputs": [
        {
          "output_type": "stream",
          "name": "stdout",
          "text": [
            "Two or Three\n"
          ]
        }
      ]
    }
  ]
}